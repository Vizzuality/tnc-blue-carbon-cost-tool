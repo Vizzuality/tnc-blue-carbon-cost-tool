{
 "cells": [
  {
   "cell_type": "markdown",
   "id": "6026cafb-f464-4d4c-9ac4-425395f79833",
   "metadata": {},
   "source": [
    "# Prototype for the Blue Carbon Cost tool:"
   ]
  },
  {
   "cell_type": "markdown",
   "id": "f18e62b8",
   "metadata": {},
   "source": []
  }
 ],
 "metadata": {
  "kernelspec": {
   "display_name": "Python 3 (ipykernel)",
   "language": "python",
   "name": "python3"
  },
  "language_info": {
   "codemirror_mode": {
    "name": "ipython",
    "version": 3
   },
   "file_extension": ".py",
   "mimetype": "text/x-python",
   "name": "python",
   "nbconvert_exporter": "python",
   "pygments_lexer": "ipython3",
   "version": "3.12.6"
  }
 },
 "nbformat": 4,
 "nbformat_minor": 5
}
