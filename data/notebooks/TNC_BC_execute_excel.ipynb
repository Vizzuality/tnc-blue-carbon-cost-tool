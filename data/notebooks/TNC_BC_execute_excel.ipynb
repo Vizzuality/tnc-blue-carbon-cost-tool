{
 "cells": [
  {
   "cell_type": "code",
   "execution_count": 1,
   "id": "59c368a9",
   "metadata": {},
   "outputs": [],
   "source": [
    "from openpyxl import load_workbook\n",
    "from openpyxl.formula.translate import Translator\n",
    "\n",
    "from pathlib import Path"
   ]
  },
  {
   "cell_type": "code",
   "execution_count": null,
   "id": "e4a8e3d9",
   "metadata": {},
   "outputs": [],
   "source": [
    "# path to the Excel file\n",
    "file_path = Path(\n",
    "    \"../raw_data/original_tools/Blue Carbon Cost Tool - Excel full functionality (only if needed)_EP_v3.xlsm\"\n",
    ")\n",
    "# Load the workbook\n",
    "wb = load_workbook(file_path.as_posix(), keep_vba=True, keep_links=True)"
   ]
  },
  {
   "cell_type": "markdown",
   "id": "e5df79db",
   "metadata": {},
   "source": [
    "in the excel the main sheet is called \"Dashboard\", from here data needs to be inputted in the next cells:\n",
    "1. \n"
   ]
  },
  {
   "cell_type": "code",
   "execution_count": 36,
   "id": "a4461b13",
   "metadata": {},
   "outputs": [
    {
     "name": "stdout",
     "output_type": "stream",
     "text": [
      "Input data\n",
      "Restoration project size (ha) :  0.0\n",
      "Conservation project size (ha) :  40000.0\n",
      "Initial carbon price assumption :  1.0\n",
      "Country :  Indonesia\n",
      "Ecosystem :  Mangrove\n",
      "Activity :  Restoration\n",
      "Carbon revenues to cover :  Capex + opex\n",
      "Carbon revenues will not cover :  =IF(E12=\"opex\",\"Capex\",\"N/A\")\n",
      "Restoration\n",
      "15\n",
      "Loss rate used :  Project-specific\n",
      "16\n",
      "Project-specific loss rate :  -0.001\n",
      "17\n",
      "Emission factor used (as committed emissions) :  Tier 2 - Country-specific emission factor\n",
      "18\n",
      "Tier 3 - Project-specific emissions - one emission factor or separate AGB and SOC :  AGB and SOC separately\n",
      "19\n",
      "Tier 3 - Project-specific emissions - one emission factor (in tCO2e/ha/ year) :  None\n",
      "20\n",
      "Tier 3 - Project-specific emissions - separate - AGB (as committed emissions in tCO2e/ha) :  None\n",
      "21\n",
      "Tier 3 - Project-specific emissions - separate - SOC (in tCO2e/ha/ year) :  None\n",
      "Output data\n",
      "___________________________\n",
      "Project :  None\n",
      "$/tCO2e (total cost, NPV) :  ='Project calculation'!$D$52\n",
      "$/ha :  ='Project calculation'!D53\n",
      "=IF(E12=\"opex\",\"NPV covering opex\",\"NPV covering total cost\") :  =IF(E12=\"opex\",$I$16-$I$14,$I$16-$I$12)\n"
     ]
    }
   ],
   "source": [
    "print(\"Input data\")\n",
    "for i in range(6, 14):\n",
    "    print(\n",
    "        wb[\"Dashboard\"].cell(row=i, column=2).value,\n",
    "        \": \",\n",
    "        wb[\"Dashboard\"].cell(row=i, column=5).value,\n",
    "    )\n",
    "\n",
    "ranges_ = {\"Restoration\": [15, 22], \"Protection\": [23, 26]}\n",
    "print(wb[\"Dashboard\"].cell(row=11, column=5).value)\n",
    "range_to_print = ranges_[wb[\"Dashboard\"].cell(row=11, column=5).value]\n",
    "\n",
    "for i in range(*range_to_print):\n",
    "    print(i)\n",
    "    print(\n",
    "        wb[\"Dashboard\"].cell(row=i, column=2).value,\n",
    "        \": \",\n",
    "        wb[\"Dashboard\"].cell(row=i, column=5).value,\n",
    "    )\n",
    "\n",
    "\n",
    "print(\"Output data\")\n",
    "print(\"___________________________\")\n",
    "for i in range(6, 10):\n",
    "    print(\n",
    "        wb[\"Dashboard\"].cell(row=i, column=7).value,\n",
    "        \": \",\n",
    "        wb[\"Dashboard\"].cell(row=i, column=9).value,\n",
    "    )"
   ]
  },
  {
   "cell_type": "code",
   "execution_count": null,
   "id": "379b9e6b",
   "metadata": {},
   "outputs": [],
   "source": [
    "# Select the active worksheet\n",
    "sheet = workbook.active\n",
    "\n",
    "# Read data from a specific cell\n",
    "print(\"Original value in A1:\", sheet[\"A1\"].value)\n",
    "\n",
    "# Modify data in a specific cell\n",
    "sheet[\"A1\"] = \"Modified Value\"\n",
    "\n",
    "# Save the changes to the workbook\n",
    "workbook.save(\"example_modified.xlsx\")\n",
    "\n",
    "\n",
    "print(\"Workbook modified and saved as 'example_modified.xlsx'\")\n"
   ]
  }
 ],
 "metadata": {
  "kernelspec": {
   "display_name": "Python 3 (ipykernel)",
   "language": "python",
   "name": "python3"
  },
  "language_info": {
   "codemirror_mode": {
    "name": "ipython",
    "version": 3
   },
   "file_extension": ".py",
   "mimetype": "text/x-python",
   "name": "python",
   "nbconvert_exporter": "python",
   "pygments_lexer": "ipython3",
   "version": "3.12.3"
  }
 },
 "nbformat": 4,
 "nbformat_minor": 5
}
