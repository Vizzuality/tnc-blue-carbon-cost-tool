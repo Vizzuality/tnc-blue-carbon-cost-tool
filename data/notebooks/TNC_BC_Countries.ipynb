{
 "cells": [
  {
   "cell_type": "markdown",
   "id": "d6af4f6b",
   "metadata": {},
   "source": [
    "# BCC Country preprocessing\n",
    "\n",
    "In this notebook, we will add GDAM geometries to the Blue Carbon Cost Tool countries."
   ]
  },
  {
   "cell_type": "markdown",
   "id": "fcec04b3",
   "metadata": {},
   "source": [
    "## Setup\n",
    "\n",
    "### Library import"
   ]
  },
  {
   "cell_type": "code",
   "execution_count": 1,
   "id": "86408937",
   "metadata": {},
   "outputs": [],
   "source": [
    "%load_ext autoreload\n",
    "%autoreload 2"
   ]
  },
  {
   "cell_type": "code",
   "execution_count": 2,
   "id": "91c3587c",
   "metadata": {},
   "outputs": [],
   "source": [
    "import geopandas as gpd\n",
    "import pandas as pd\n",
    "from shapely.geometry import MultiPolygon\n",
    "\n",
    "import sys\n",
    "\n",
    "sys.path.append(\"../src\")\n",
    "\n",
    "from gadm.preprocess_gadm import download_gadm_data, preprocess_gadm_data, write_sql_file"
   ]
  },
  {
   "cell_type": "markdown",
   "id": "ffb0b47f",
   "metadata": {},
   "source": [
    "### Pipe"
   ]
  },
  {
   "cell_type": "code",
   "execution_count": 39,
   "id": "a9d0520a",
   "metadata": {},
   "outputs": [],
   "source": [
    "# Variables\n",
    "folder_path = \"./../raw_data\"\n",
    "import_xls_path = \"./../excel/Carbon-Cost Data Upload.xlsm\"\n",
    "output_sql_path = \"./../excel/insert_country_data.sql\""
   ]
  },
  {
   "cell_type": "code",
   "execution_count": 4,
   "id": "62e23513",
   "metadata": {},
   "outputs": [
    {
     "name": "stdout",
     "output_type": "stream",
     "text": [
      "Data unzipped in the folder: /home/alicitita/Projects/tnc-blue-carbon-cost-tool/data/raw_data/gadm\n"
     ]
    }
   ],
   "source": [
    "gpkg_path = download_gadm_data(folder_path)\n"
   ]
  },
  {
   "cell_type": "code",
   "execution_count": 33,
   "id": "cc40b284",
   "metadata": {},
   "outputs": [
    {
     "name": "stdout",
     "output_type": "stream",
     "text": [
      "Saving the cleaned data to a csv in:  /home/alicitita/Projects/tnc-blue-carbon-cost-tool/data/raw_data/gadm/countries.csv\n"
     ]
    }
   ],
   "source": [
    "prepared_data = preprocess_gadm_data(gpkg_path, import_xls_path)"
   ]
  },
  {
   "cell_type": "code",
   "execution_count": 40,
   "id": "2284634e",
   "metadata": {},
   "outputs": [],
   "source": [
    "write_sql_file(prepared_data, output_sql_path)\n"
   ]
  }
 ],
 "metadata": {
  "kernelspec": {
   "display_name": "Python 3 (ipykernel)",
   "language": "python",
   "name": "python3"
  },
  "language_info": {
   "codemirror_mode": {
    "name": "ipython",
    "version": 3
   },
   "file_extension": ".py",
   "mimetype": "text/x-python",
   "name": "python",
   "nbconvert_exporter": "python",
   "pygments_lexer": "ipython3",
   "version": "3.12.3"
  }
 },
 "nbformat": 4,
 "nbformat_minor": 5
}
