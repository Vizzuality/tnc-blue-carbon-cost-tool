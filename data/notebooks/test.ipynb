{
 "cells": [
  {
   "cell_type": "code",
   "execution_count": 1,
   "metadata": {},
   "outputs": [],
   "source": [
    "import json\n",
    "import sys\n",
    "\n",
    "import pandas as pd  # noqa: I001\n",
    "from IPython.display import display, Markdown\n",
    "\n",
    "\n",
    "sys.path.append(\"../src/bcc_model/\")\n",
    "\n",
    "from blue_carbon_project import BlueCarbonProject\n",
    "from cost_calculator import CostCalculator\n"
   ]
  },
  {
   "cell_type": "code",
   "execution_count": 2,
   "metadata": {},
   "outputs": [],
   "source": [
    "def generate_master_table(data_path):\n",
    "    index = pd.read_excel(data_path, sheet_name=\"Index\", header=11)\n",
    "    index = index.iloc[:, 2:]\n",
    "    cost_tables = index[index[\"Type\"] == \"Cost Tables\"][\"Sheet Name\"].values[1:]\n",
    "    carbon_tables = index[index[\"Type\"] == \"Carbon Tables\"][\"Sheet Name\"].values[1:]\n",
    "    tables = list(cost_tables[1:]) + list(carbon_tables)\n",
    "\n",
    "    master_table = pd.read_excel(data_path, sheet_name=cost_tables[0]).drop(columns=[\"Source\"])\n",
    "    for table in tables:\n",
    "        # Read the table and drop the source columns\n",
    "        df_table = pd.read_excel(data_path, sheet_name=table)\n",
    "        df_table = df_table.drop(\n",
    "            columns=[col for col in df_table.columns if col.startswith(\"Source\")], errors=\"ignore\"\n",
    "        )\n",
    "        # Determine which columns exist in df_table from the list\n",
    "        common_columns = [\n",
    "            col\n",
    "            for col in [\"Country\", \"Country code\", \"Activity\", \"Ecosystem\"]\n",
    "            if col in df_table.columns\n",
    "        ]\n",
    "\n",
    "        # Merge using only the found columns\n",
    "        master_table = pd.merge(master_table, df_table, on=common_columns, how=\"left\")\n",
    "\n",
    "    # Convert master_table's column names to lower case and replace spaces with underscores\n",
    "    master_table.columns = (\n",
    "        master_table.columns.str.lower()\n",
    "        .str.replace(\" - \", \"_\")\n",
    "        .str.replace(\"-\", \"_\")\n",
    "        .str.replace(\" / \", \"_\")\n",
    "        .str.replace(\" \", \"_\")\n",
    "    )\n",
    "    return master_table\n"
   ]
  },
  {
   "cell_type": "code",
   "execution_count": 3,
   "metadata": {},
   "outputs": [],
   "source": [
    "# Import excel with the import datai\n",
    "data_path = \"../excel/Carbon-Cost Data Upload.xlsm\"\n"
   ]
  },
  {
   "cell_type": "code",
   "execution_count": 4,
   "metadata": {},
   "outputs": [],
   "source": [
    "master_table = generate_master_table(data_path)\n",
    "# Open the excel file - tab 'Base_size_table'\n",
    "base_size = pd.read_excel(data_path, sheet_name=\"Base_size_table\")\n",
    "\n",
    "# Open the excel file - tab 'Base_increase'\n",
    "base_increase = pd.read_excel(data_path, sheet_name=\"Base_increase\")"
   ]
  },
  {
   "cell_type": "code",
   "execution_count": 11,
   "metadata": {},
   "outputs": [],
   "source": [
    "# display(Markdown(\"## Master Table\"))\n",
    "# display(master_table.head())\n",
    "# display(Markdown(\"## Base size Table\"))\n",
    "# display(base_size.head())\n",
    "# display(Markdown(\"## Base increase Table\"))\n",
    "# display(base_increase.head())"
   ]
  },
  {
   "cell_type": "code",
   "execution_count": 5,
   "metadata": {},
   "outputs": [],
   "source": [
    "project_parameters = {\n",
    "    \"project_name\": \"Test Project\",\n",
    "    \"project_setup\": {\n",
    "        \"project_size_ha\": 250,\n",
    "        \"activity\": \"Restoration\",\n",
    "        \"ecosystem\": \"Mangrove\",\n",
    "        \"country\": \"Australia\",\n",
    "        \"carbon_price\": 15,\n",
    "        \"carbon_revenues_to_cover\": \"Opex\",\n",
    "        \"restoration_activity\": \"Planting\",\n",
    "        \"sequestration_rate_used\": \"Tier 2 - Country-specific rate\",\n",
    "        \"project_specific_sequestration_rate\": None,\n",
    "        \"planting_success_rate\": 0.8,\n",
    "        # loss_rate_used=\"National average\",  # ['National average', 'project-specific']\n",
    "        # project_specific_loss_rate=-0.1, # -0.10% loss rate\n",
    "        # emission_factor_used=\"Tier 2 - Country-specific emission factor\",\n",
    "        # ['Tier 1 - Global emission factor', 'Tier 2 - Country-specific emission factor',\n",
    "        #  'Tier 3 - Project specific emission factor']\n",
    "        # tier_3_project_specific_emission=\"AGB and SOC separately\",\n",
    "        # ['One emission factor', 'AGB and SOC separately']\n",
    "        # tier_3_project_specific_emission_one_factor=0.5,\n",
    "        # tier_3_emission_factor_AGB=0.5,\n",
    "        # tier_3_emission_factor_SOC=0.5\n",
    "    },\n",
    "}"
   ]
  },
  {
   "cell_type": "code",
   "execution_count": null,
   "metadata": {},
   "outputs": [],
   "source": [
    "project_name = \"Restoration_Mangrove_Colombia\"\n",
    "# Example usage for a restoration project\n",
    "project = BlueCarbonProject(\n",
    "    master_table=master_table,\n",
    "    base_size=base_size,\n",
    "    base_increase=base_increase,\n",
    "    **project_parameters[\"project_setup\"],\n",
    ")\n"
   ]
  },
  {
   "cell_type": "code",
   "execution_count": null,
   "metadata": {},
   "outputs": [],
   "source": [
    "def compute_pct_change(min, max, base):\n",
    "    \"\"\"Compute the percentage change between two values.\"\"\"\n",
    "    a_ = ((base - min) / base) * -1\n",
    "    b_ = (max - base) / max\n",
    "\n",
    "    return a_, b_"
   ]
  },
  {
   "cell_type": "code",
   "execution_count": 21,
   "metadata": {},
   "outputs": [
    {
     "name": "stdout",
     "output_type": "stream",
     "text": [
      "Base cost per tCO2e:\n",
      "275.81599249170347\n",
      "Min cost per tCO2e:\n",
      "{'feasibility_analysis': 275.06530614990527, 'conservation_planning_and_admin': 269.0645410077627, 'data_collection_and_field_cost': 274.9906394047222, 'community_representation': 272.4525794611625, 'blue_carbon_project_planning': 274.7196195802506, 'establishing_carbon_rights': 272.24475317303444, 'financing_cost': 275.81599249170347, 'validation': 275.3393086171588, 'implementation_labor': 249.40654810166137, 'monitoring': 270.6074477992727, 'maintenance': 275.81599249170347, 'carbon_standard_fees': 275.78578811511886, 'community_benefit_sharing_fund': 275.68561251323496, 'baseline_reassessment': 275.0029791174227, 'MRV': 273.42385674030305, 'long_term_project_operating': 258.680916979913}\n",
      "Max cost per tCO2e:\n",
      "{'feasibility_analysis': 276.5666788335017, 'conservation_planning_and_admin': 282.5674439756443, 'data_collection_and_field_cost': 276.6413455786848, 'community_representation': 279.1794055222445, 'blue_carbon_project_planning': 276.91236540315634, 'establishing_carbon_rights': 279.38723181037255, 'financing_cost': 275.81599249170347, 'validation': 276.2926763662482, 'implementation_labor': 302.22543688174557, 'monitoring': 281.0245371841344, 'maintenance': 275.81599249170347, 'carbon_standard_fees': 275.846196868288, 'community_benefit_sharing_fund': 275.94637247017204, 'baseline_reassessment': 276.6290058659843, 'MRV': 278.20812824310394, 'long_term_project_operating': 292.951068003494}\n"
     ]
    }
   ],
   "source": [
    "range_value = 25  # Percentage range for cost inputs\n",
    "min_range_factor = 1 - (range_value / 100)\n",
    "max_range_factor = 1 + (range_value / 100)\n",
    "\n",
    "cost_input_base_parameters = project.get_cost_inputs()\n",
    "\n",
    "min_cost_input_base_parameters = {\n",
    "    k: v * min_range_factor for k, v in cost_input_base_parameters.items()\n",
    "}\n",
    "max_cost_input_base_parameters = {\n",
    "    k: v * max_range_factor for k, v in cost_input_base_parameters.items()\n",
    "}\n",
    "\n",
    "\n",
    "# print(min_cost_input_base_parameters)\n",
    "# print(cost_input_base_parameters)\n",
    "# print(max_cost_input_base_parameters)\n",
    "\n",
    "# Calculate the cost per tCO2e for the base project\n",
    "base_carbon_cost_per_tCO2e = CostCalculator(project).cost_per_tCO2e\n",
    "\n",
    "min_cost_per_tCO2e = {}\n",
    "max_cost_per_tCO2e = {}\n",
    "for key in cost_input_base_parameters.keys():\n",
    "    # Create a new project with the modified min cost input\n",
    "    cost_input_override_parameters = cost_input_base_parameters.copy()\n",
    "    cost_input_override_parameters[key] = min_cost_input_base_parameters[key]\n",
    "    project.override_cost_input(**cost_input_override_parameters)\n",
    "    min_cost_per_tCO2e[key] = CostCalculator(project).cost_per_tCO2e\n",
    "    # Create a new project with the modified max cost input\n",
    "    cost_input_override_parameters[key] = max_cost_input_base_parameters[key]\n",
    "    project.override_cost_input(**cost_input_override_parameters)\n",
    "    max_cost_per_tCO2e[key] = CostCalculator(project).cost_per_tCO2e\n",
    "# Display the results\n",
    "print(\"Base cost per tCO2e:\")\n",
    "print(base_carbon_cost_per_tCO2e)\n",
    "print(\"Min cost per tCO2e:\")\n",
    "print(min_cost_per_tCO2e)\n",
    "print(\"Max cost per tCO2e:\")\n",
    "print(max_cost_per_tCO2e)\n"
   ]
  },
  {
   "cell_type": "code",
   "execution_count": null,
   "metadata": {},
   "outputs": [],
   "source": [
    "override_cost_input()\n"
   ]
  },
  {
   "cell_type": "code",
   "execution_count": null,
   "metadata": {},
   "outputs": [],
   "source": [
    "def sensitivity_analysis(carbon_project, range_value=25):\n",
    "    min_range_factor = 1 - (range_value / 100)\n",
    "    max_range_factor = 1 + (range_value / 100)\n",
    "    # Calculate the range of values for each cost input parameter\n",
    "    cost_input_base_parameters = carbon_project.get_cost_inputs()"
   ]
  }
 ],
 "metadata": {
  "kernelspec": {
   "display_name": "Python 3 (ipykernel)",
   "language": "python",
   "name": "python3"
  },
  "language_info": {
   "codemirror_mode": {
    "name": "ipython",
    "version": 3
   },
   "file_extension": ".py",
   "mimetype": "text/x-python",
   "name": "python",
   "nbconvert_exporter": "python",
   "pygments_lexer": "ipython3",
   "version": "3.12.3"
  }
 },
 "nbformat": 4,
 "nbformat_minor": 2
}
